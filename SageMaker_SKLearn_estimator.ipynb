{
 "cells": [
  {
   "cell_type": "code",
   "execution_count": null,
   "metadata": {},
   "outputs": [],
   "source": [
    "import pandas as pd\n",
    "import boto3\n",
    "import sagemaker\n",
    "\n"
   ]
  },
  {
   "cell_type": "code",
   "execution_count": null,
   "metadata": {},
   "outputs": [],
   "source": [
    "# session and role\n",
    "sagemaker_session = sagemaker.Session()\n",
    "role = sagemaker.get_execution_role()\n",
    "\n",
    "# create an S3 bucket\n",
    "bucket = sagemaker_session.default_bucket()\n",
    "print(bucket)"
   ]
  },
  {
   "cell_type": "code",
   "execution_count": null,
   "metadata": {},
   "outputs": [],
   "source": [
    "# should be the name of directory you created to save your features data\n",
    "data_dir = 'plagiarism_data'\n",
    "\n",
    "# set prefix, a descriptive name for a directory  \n",
    "prefix = 'sagemaker/plagiarism_data_project'\n",
    "\n",
    "# upload all data to S3\n",
    "input_data = sagemaker_session.upload_data(path=data_dir, bucket=bucket, key_prefix=prefix)\n",
    "print(input_data)"
   ]
  },
  {
   "cell_type": "code",
   "execution_count": null,
   "metadata": {},
   "outputs": [],
   "source": [
    "from sagemaker.sklearn.estimator import SKLearn\n",
    "from sklearn.base import BaseEstimator\n",
    "from sagemaker import get_execution_role\n",
    "role = get_execution_role()\n",
    "output_path='s3://{}/{}'.format(bucket, prefix)\n",
    "\n",
    "scikit_estimator = SKLearn(role=role,\n",
    "                         entry_point='train.py',\n",
    "                         source_dir='source_sklearn',\n",
    "                         train_instance_count=1,\n",
    "                         train_instance_type='ml.c4.xlarge',\n",
    "                         output_path=output_path,\n",
    "                         sagemaker_session=sagemaker_session,\n",
    "                         hyperparameters={'priors': None, 'var_smoothing': 1e-9})"
   ]
  },
  {
   "cell_type": "code",
   "execution_count": null,
   "metadata": {},
   "outputs": [],
   "source": [
    "%%time\n",
    "\n",
    "# Train your estimator on S3 training data\n",
    "#! pip install --upgrade sagemaker\n",
    "train_data_path = (input_data + '/train.csv')\n",
    "print('path to train.csv data: ', train_data_path)\n",
    "print()\n",
    "\n",
    "# ERRORS HAPPEN BELOW THIS POINT, AS I ATTEMPT TO TRAIN\n",
    "# SKLearn\n",
    "scikit_estimator.fit(train_data_path) "
   ]
  }
 ],
 "metadata": {
  "kernelspec": {
   "display_name": "conda_pytorch_p36",
   "language": "python",
   "name": "conda_pytorch_p36"
  },
  "language_info": {
   "codemirror_mode": {
    "name": "ipython",
    "version": 3
   },
   "file_extension": ".py",
   "mimetype": "text/x-python",
   "name": "python",
   "nbconvert_exporter": "python",
   "pygments_lexer": "ipython3",
   "version": "3.6.5"
  }
 },
 "nbformat": 4,
 "nbformat_minor": 2
}
